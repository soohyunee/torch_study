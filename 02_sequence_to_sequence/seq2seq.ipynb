{
 "cells": [
  {
   "cell_type": "raw",
   "id": "modified-pixel",
   "metadata": {},
   "source": [
    "!python3 -m spacy download fr_core_news_sm\n",
    "!python3 -m spacy download en_core_web_sm"
   ]
  },
  {
   "cell_type": "code",
   "execution_count": 1,
   "id": "resident-request",
   "metadata": {},
   "outputs": [
    {
     "data": {
      "text/plain": [
       "<spacy.lang.en.English at 0x7f60abdbac40>"
      ]
     },
     "execution_count": 1,
     "metadata": {},
     "output_type": "execute_result"
    }
   ],
   "source": [
    "import time\n",
    "import math\n",
    "import random\n",
    "import numpy as np\n",
    "\n",
    "import spacy\n",
    "spacy.load('fr_core_news_sm')\n",
    "spacy.load('en_core_web_sm')"
   ]
  },
  {
   "cell_type": "code",
   "execution_count": 2,
   "id": "republican-college",
   "metadata": {},
   "outputs": [],
   "source": [
    "import torch\n",
    "import torch.nn as nn\n",
    "import torch.optim as optim\n",
    "\n",
    "from torchtext.datasets import Multi30k\n",
    "from torchtext.data import Field, BucketIterator"
   ]
  },
  {
   "cell_type": "code",
   "execution_count": 3,
   "id": "stuffed-roller",
   "metadata": {},
   "outputs": [
    {
     "name": "stdout",
     "output_type": "stream",
     "text": [
      "424\n",
      "761\n"
     ]
    }
   ],
   "source": [
    "spacy_fr = spacy.load(\"fr_core_news_sm\")\n",
    "print(len(spacy_fr.vocab))\n",
    "spacy_en = spacy.load(\"en_core_web_sm\")\n",
    "print(len(spacy_en.vocab))"
   ]
  },
  {
   "cell_type": "code",
   "execution_count": 4,
   "id": "similar-hundred",
   "metadata": {},
   "outputs": [],
   "source": [
    "def tokenize_fr(text):\n",
    "    return [tok.text for tok in spacy_fr.tokenizer(text)][::-1]\n",
    "\n",
    "def tokenize_en(text):\n",
    "    return [tok.text for tok in spacy_en.tokenizer(text)][::-1]"
   ]
  },
  {
   "cell_type": "code",
   "execution_count": 5,
   "id": "focused-crown",
   "metadata": {},
   "outputs": [
    {
     "name": "stdout",
     "output_type": "stream",
     "text": [
      "<class 'torchtext.data.field.Field'> <class 'torchtext.data.field.Field'>\n"
     ]
    },
    {
     "name": "stderr",
     "output_type": "stream",
     "text": [
      "/home/soohyun/anaconda3/envs/torch/lib/python3.9/site-packages/torchtext/data/field.py:150: UserWarning: Field class will be retired soon and moved to torchtext.legacy. Please see the most recent release notes for further information.\n",
      "  warnings.warn('{} class will be retired soon and moved to torchtext.legacy. Please see the most recent release notes for further information.'.format(self.__class__.__name__), UserWarning)\n"
     ]
    }
   ],
   "source": [
    "SRC = Field(tokenize=tokenize_fr, \n",
    "            init_token=\"<sos>\", \n",
    "            eos_token=\"<eos>\", \n",
    "#             unk_token=\"<unk>\",  #TODO: unk가 꼭 필요한가?\n",
    "            lower=True)\n",
    "\n",
    "TRG = Field(tokenize=tokenize_en, \n",
    "            init_token=\"<sos>\", \n",
    "            eos_token=\"<eos>\",\n",
    "#             unk_token=\"<unk>\",\n",
    "            lower=True)\n",
    "\n",
    "print(type(SRC), type(TRG))"
   ]
  },
  {
   "cell_type": "code",
   "execution_count": 6,
   "id": "western-restriction",
   "metadata": {},
   "outputs": [
    {
     "name": "stderr",
     "output_type": "stream",
     "text": [
      "/home/soohyun/anaconda3/envs/torch/lib/python3.9/site-packages/torchtext/data/example.py:78: UserWarning: Example class will be retired soon and moved to torchtext.legacy. Please see the most recent release notes for further information.\n",
      "  warnings.warn('Example class will be retired soon and moved to torchtext.legacy. Please see the most recent release notes for further information.', UserWarning)\n"
     ]
    },
    {
     "name": "stdout",
     "output_type": "stream",
     "text": [
      "train: 29000\n",
      "valid: 1014\n",
      "test: 1000\n"
     ]
    }
   ],
   "source": [
    "train_data, valid_data, test_data = Multi30k.splits(path=\"/home/soohyun/data/multi30k/\",\\\n",
    "                                                    exts=(\".fr\",\".en\"), fields=(SRC, TRG))\n",
    "\n",
    "print('train:',len(train_data))\n",
    "print('valid:',len(valid_data))\n",
    "print('test:',len(test_data))"
   ]
  },
  {
   "cell_type": "code",
   "execution_count": 7,
   "id": "excited-polymer",
   "metadata": {},
   "outputs": [
    {
     "name": "stdout",
     "output_type": "stream",
     "text": [
      "{'src': ['.', 'buissons', 'de', 'près', 'dehors', 'sont', 'blancs', 'hommes', 'jeunes', 'deux'], 'trg': ['.', 'bushes', 'many', 'near', 'outside', 'are', 'males', 'white', ',', 'young', 'two']}\n"
     ]
    }
   ],
   "source": [
    "print(vars(train_data.examples[0])) "
   ]
  },
  {
   "cell_type": "code",
   "execution_count": 8,
   "id": "instructional-infrared",
   "metadata": {},
   "outputs": [],
   "source": [
    "SRC.build_vocab(train_data, min_freq=2)\n",
    "TRG.build_vocab(train_data, min_freq=2)"
   ]
  },
  {
   "cell_type": "code",
   "execution_count": 9,
   "id": "heard-blank",
   "metadata": {},
   "outputs": [
    {
     "name": "stdout",
     "output_type": "stream",
     "text": [
      "len of French vocab: 6470\n",
      "len of English vocab: 5893\n"
     ]
    }
   ],
   "source": [
    "print('len of French vocab:',len(SRC.vocab))\n",
    "print('len of English vocab:',len(TRG.vocab))"
   ]
  },
  {
   "cell_type": "code",
   "execution_count": 10,
   "id": "satellite-south",
   "metadata": {},
   "outputs": [
    {
     "name": "stdout",
     "output_type": "stream",
     "text": [
      "device: cuda\n"
     ]
    }
   ],
   "source": [
    "device = torch.device('cuda' if torch.cuda.is_available() else 'cpu')\n",
    "print('device:', device)"
   ]
  },
  {
   "cell_type": "code",
   "execution_count": 11,
   "id": "personal-iceland",
   "metadata": {},
   "outputs": [
    {
     "name": "stdout",
     "output_type": "stream",
     "text": [
      "580 21 20\n"
     ]
    },
    {
     "name": "stderr",
     "output_type": "stream",
     "text": [
      "/home/soohyun/anaconda3/envs/torch/lib/python3.9/site-packages/torchtext/data/iterator.py:48: UserWarning: BucketIterator class will be retired soon and moved to torchtext.legacy. Please see the most recent release notes for further information.\n",
      "  warnings.warn('{} class will be retired soon and moved to torchtext.legacy. Please see the most recent release notes for further information.'.format(self.__class__.__name__), UserWarning)\n"
     ]
    }
   ],
   "source": [
    "BATCH_SIZE = 50\n",
    "# https://github.com/karlie38/torchstudy/blob/master/2.%20Sequence%20to%20Sequence%20Learning%20wiht%20Neural%20Networks/seq2seq-v03.ipynb\n",
    "train_iter, valid_iter, test_iter = BucketIterator.splits((train_data, valid_data, test_data),\n",
    "                                                         batch_size=BATCH_SIZE,\n",
    "                                                         device=device,\n",
    "                                                         sort_key=lambda x:len(x.src))\n",
    "                                                        # src 문장을 길이로 sort\n",
    "\n",
    "print(len(train_iter), len(valid_iter), len(test_iter))"
   ]
  },
  {
   "cell_type": "code",
   "execution_count": 42,
   "id": "amino-infrared",
   "metadata": {},
   "outputs": [],
   "source": [
    "#TODO:::: https://github.com/karlie38/torchstudy/blob/master/2.%20Sequence%20to%20Sequence%20Learning%20wiht%20Neural%20Networks/seq2seq-v03.ipynb\n",
    "class Encoder(nn.Module):\n",
    "    def __init__(self, input_dim, emb_dim, hid_dim, n_layers, dropout):\n",
    "        super().__init__()\n",
    "        \n",
    "#         print('[enc]hid dim:', hid_dim)\n",
    "        self.hid_dim = hid_dim\n",
    "        self.n_layers = n_layers\n",
    "#         print('[enc]n layers:', n_layers)\n",
    "        self.embedding = nn.Embedding(input_dim, emb_dim)\n",
    "#         print('[enc]embedding (input_dim, emb_dim):', (input_dim, emb_dim))\n",
    "        self.rnn = nn.LSTM(emb_dim, hid_dim, n_layers, dropout=dropout)\n",
    "#         print('[enc]LSTM(input_dim, emb_dim, n layers):', (input_dim, emb_dim, n_layers))\n",
    "#         print('[enc]dropout:', dropout)\n",
    "        self.dropout = nn.Dropout(dropout)\n",
    "        \n",
    "    def forward(self, src):\n",
    "        src_ = src.transpose(1,0)\n",
    "        input_lengths = torch.LongTensor([torch.max(src_[i,:].data.nonzero())+1 for i in range(src_.size(0))])\n",
    "        input_lengths, sorted_idx = input_lengths.sort(0, descending=True)\n",
    "        input_seq2idx = src_[sorted_idx]\n",
    "        \n",
    "        embedded = self.dropout(self.embedding(src))\n",
    "        embedded = embedded.transpose(1,0)\n",
    "        \n",
    "        packed_input = nn.utils.rnn.pack_padded_sequence(embedded, input_lengths.tolist(), batch_first=True)\n",
    "        packed_output, (hidden, cell) = self.rnn(packed_input)\n",
    "        output, output_lengths = nn.utils.rnn.pad_packed_sequence(packed_output, batch_first=True)\n",
    "        \n",
    "        output = output.transpose(1,0)\n",
    "\n",
    "        return output, hidden, cell"
   ]
  },
  {
   "cell_type": "code",
   "execution_count": 43,
   "id": "danish-cleveland",
   "metadata": {},
   "outputs": [],
   "source": [
    "class Decoder(nn.Module):\n",
    "    def __init__(self, output_dim, emb_dim, hid_dim, n_layers, dropout):\n",
    "        super().__init__()\n",
    "        \n",
    "        self.output_dim = output_dim\n",
    "        self.hid_dim = hid_dim\n",
    "        self.n_layers = n_layers\n",
    "        self.embedding = nn.Embedding(output_dim, emb_dim)\n",
    "        \n",
    "        self.rnn = nn.LSTM(emb_dim, hid_dim, n_layers, dropout=dropout)\n",
    "        self.fc_out = nn.Linear(hid_dim, output_dim)\n",
    "        self.dropout = nn.Dropout(dropout)\n",
    "        \n",
    "    def forward(self, input, hidden, cell):\n",
    "        if input.dim() == 2:\n",
    "            input = input\n",
    "        else:\n",
    "            input = input.unsqueeze(0)\n",
    "        embedded = self.dropout(self.embedding(input))\n",
    "        output, (hidden, cell) = self.rnn(embedded, (hidden, cell))\n",
    "        prediction = self.fc_out(output.squeeze(0))\n",
    "        return prediction, hidden, cell"
   ]
  },
  {
   "cell_type": "code",
   "execution_count": 44,
   "id": "unique-tackle",
   "metadata": {},
   "outputs": [],
   "source": [
    "class Seq2Seq(nn.Module):\n",
    "    def __init__(self, encoder, decoder, device):\n",
    "        super().__init__()\n",
    "        \n",
    "        self.encoder = encoder\n",
    "        self.decoder = decoder\n",
    "        self.device = device\n",
    "        assert encoder.hid_dim == decoder.hid_dim, \\\n",
    "        \"hidden dimensions of encoder and decoder must be equal\"\n",
    "        assert encoder.n_layers == decoder.n_layers, \\\n",
    "        \"encoder and decoder must have equal number of layers\"\n",
    "        \n",
    "    def forward(self, src, trg, teacher_forcing_ratio=0.5):\n",
    "        batch_size = trg.shape[1]\n",
    "        trg_len = trg.shape[0]\n",
    "        trg_vocab_size = self.decoder.output_dim\n",
    "        \n",
    "        # tensor to store decoder outputs\n",
    "        outputs = torch.zeros(trg_len, batch_size, trg_vocab_size).to(self.device)\n",
    "        \n",
    "        # last hidden state of the encoder is used as the init hidden state of the decoder\n",
    "        encoder_output, hidden, cell = self.encoder(src)\n",
    "        \n",
    "        # first input to the decoder is the <sos> token\n",
    "        input = trg[0,:]\n",
    "        \n",
    "        for t in range(1, trg_len):\n",
    "            output, hidden, cell = self.decoder(input, hidden, cell)\n",
    "            \n",
    "            # receive output tensor (predictions) and new hidden and cell states\n",
    "            outputs[t] = output\n",
    "            \n",
    "            # decide if we are going to use teacher forcing or not\n",
    "            teacher_force = random.random() < teacher_forcing_ratio\n",
    "            \n",
    "            # get the highest predicted token from out predictions\n",
    "            top1 = output.argmax(1)\n",
    "            \n",
    "            # if teacher forcing, use actual next token as next input\n",
    "            # if not, use predicted token\n",
    "            input = trg[t] if teacher_force else top1\n",
    "            \n",
    "        return outputs"
   ]
  },
  {
   "cell_type": "code",
   "execution_count": 45,
   "id": "southeast-roulette",
   "metadata": {},
   "outputs": [],
   "source": [
    "INPUT_DIM = len(SRC.vocab)\n",
    "OUTPUT_DIM = len(TRG.vocab)\n",
    "ENC_EMB_DIM = 256\n",
    "DEC_EMB_DIM = 256\n",
    "HID_DIM = 512\n",
    "N_LAYERS = 2\n",
    "ENC_DROPOUT = 0.5\n",
    "DEC_DROPOUT = 0.5\n",
    "\n",
    "enc = Encoder(INPUT_DIM, ENC_EMB_DIM, HID_DIM, N_LAYERS, ENC_DROPOUT)\n",
    "dec = Decoder(OUTPUT_DIM, DEC_EMB_DIM, HID_DIM, N_LAYERS, DEC_DROPOUT)\n",
    "\n",
    "model = Seq2Seq(enc, dec, device).to(device)"
   ]
  },
  {
   "cell_type": "code",
   "execution_count": 46,
   "id": "prostate-quest",
   "metadata": {},
   "outputs": [
    {
     "data": {
      "text/plain": [
       "Seq2Seq(\n",
       "  (encoder): Encoder(\n",
       "    (embedding): Embedding(6470, 256)\n",
       "    (rnn): LSTM(256, 512, num_layers=2, dropout=0.5)\n",
       "    (dropout): Dropout(p=0.5, inplace=False)\n",
       "  )\n",
       "  (decoder): Decoder(\n",
       "    (embedding): Embedding(5893, 256)\n",
       "    (rnn): LSTM(256, 512, num_layers=2, dropout=0.5)\n",
       "    (fc_out): Linear(in_features=512, out_features=5893, bias=True)\n",
       "    (dropout): Dropout(p=0.5, inplace=False)\n",
       "  )\n",
       ")"
      ]
     },
     "execution_count": 46,
     "metadata": {},
     "output_type": "execute_result"
    }
   ],
   "source": [
    "def init_weights(m):\n",
    "    for name, param in m.named_parameters():\n",
    "        nn.init.uniform_(param.data, -0.08, 0.08)\n",
    "        \n",
    "model.apply(init_weights)"
   ]
  },
  {
   "cell_type": "code",
   "execution_count": 47,
   "id": "hollywood-color",
   "metadata": {},
   "outputs": [
    {
     "name": "stdout",
     "output_type": "stream",
     "text": [
      "The model has 13544453 trainable parameters\n"
     ]
    }
   ],
   "source": [
    "def count_parameters(model):\n",
    "    return sum(p.numel() for p in model.parameters() if p.requires_grad)\n",
    "\n",
    "print(f\"The model has {count_parameters(model)} trainable parameters\")"
   ]
  },
  {
   "cell_type": "code",
   "execution_count": 48,
   "id": "infectious-import",
   "metadata": {},
   "outputs": [],
   "source": [
    "optimizer = optim.Adam(model.parameters())"
   ]
  },
  {
   "cell_type": "code",
   "execution_count": 49,
   "id": "established-insert",
   "metadata": {},
   "outputs": [],
   "source": [
    "TRG_PAD_IDX = TRG.vocab.stoi[TRG.pad_token]\n",
    "criterion = nn.CrossEntropyLoss(ignore_index=TRG_PAD_IDX)"
   ]
  },
  {
   "cell_type": "code",
   "execution_count": 50,
   "id": "entitled-chassis",
   "metadata": {},
   "outputs": [],
   "source": [
    "def train(model, iterator, optimizer, criterion, clip):\n",
    "    model.train()\n",
    "    epoch_loss = 0\n",
    "    for i, batch in enumerate(iterator):\n",
    "        src = batch.src\n",
    "        trg = batch.trg\n",
    "        \n",
    "        optimizer.zero_grad()\n",
    "        output = model(src, trg)\n",
    "        \n",
    "        output_dim = output.shape[-1]\n",
    "        output = output[1:].view(-1, output_dim)\n",
    "        trg = trg[1:].view(-1)\n",
    "        \n",
    "        loss = criterion(output, trg)\n",
    "        loss.backward()\n",
    "        torch.nn.utils.clip_grad_norm_(model.parameters(), clip)\n",
    "        optimizer.step()\n",
    "        \n",
    "        epoch_loss += loss.item()\n",
    "    return epoch_loss/len(iterator)"
   ]
  },
  {
   "cell_type": "code",
   "execution_count": 51,
   "id": "dressed-clear",
   "metadata": {},
   "outputs": [],
   "source": [
    "def evaluate(model, iterator, criterion):\n",
    "    model.eval()\n",
    "    epoch_loss = 0\n",
    "    \n",
    "    with torch.no_grad():\n",
    "        for i,batch in enumerate(iterator):\n",
    "            src = batch.src\n",
    "            trg = batch.trg\n",
    "            \n",
    "            output = model(src, trg, 0)  # turn off teacher forcing\n",
    "            output_dim = output.shape[-1]\n",
    "            \n",
    "            output = output[1:].view(-1, output_dim)\n",
    "            trg = trg[1:].view(-1)\n",
    "            \n",
    "            loss = criterion(output, trg)\n",
    "            epoch_loss += loss.item()\n",
    "            \n",
    "    return epoch_loss/len(iterator)"
   ]
  },
  {
   "cell_type": "code",
   "execution_count": 52,
   "id": "abandoned-routine",
   "metadata": {},
   "outputs": [],
   "source": [
    "def epoch_time(start_time, end_time):\n",
    "    elapsed_time = end_time - start_time\n",
    "    elapsed_mins = int(elapsed_time/60)\n",
    "    elapsed_secs = int(elapsed_time - (elapsed_mins *60))\n",
    "    return elapsed_mins, elapsed_secs"
   ]
  },
  {
   "cell_type": "code",
   "execution_count": 53,
   "id": "artificial-border",
   "metadata": {},
   "outputs": [
    {
     "name": "stdout",
     "output_type": "stream",
     "text": [
      "valid loss: 4.931637695857456\n",
      "Epoch:  1 | Time: 1m 54s\n",
      "\tTrain loss: 4.743 | Train PPL: 114.832\n",
      "\tVal. loss: 4.932 | Val. PPL: 138.606\n"
     ]
    }
   ],
   "source": [
    "N_EPOCHS = 1\n",
    "CLIP = 1\n",
    "\n",
    "best_valid_loss = float('inf')\n",
    "for epoch in range(N_EPOCHS):\n",
    "    start_time = time.time()\n",
    "    \n",
    "    train_loss = train(model, train_iter, optimizer, criterion, CLIP)\n",
    "    valid_loss = evaluate(model, valid_iter, criterion)\n",
    "    print('valid loss:', valid_loss)\n",
    "    \n",
    "    end_time = time.time()\n",
    "    epoch_mins, epoch_secs = epoch_time(start_time, end_time)\n",
    "    \n",
    "    if valid_loss < best_valid_loss:\n",
    "        best_valid_loss = valid_loss\n",
    "        torch.save(model.state_dict(), \"fr2en.pt\")\n",
    "        \n",
    "    print(f\"Epoch: {epoch+1:2} | Time: {epoch_mins}m {epoch_secs}s\")\n",
    "    print(f\"\\tTrain loss: {train_loss:.3f} | Train PPL: {math.exp(train_loss):7.3f}\")\n",
    "    print(f\"\\tVal. loss: {valid_loss:.3f} | Val. PPL: {math.exp(valid_loss):7.3f}\")"
   ]
  },
  {
   "cell_type": "code",
   "execution_count": 54,
   "id": "general-innocent",
   "metadata": {},
   "outputs": [
    {
     "name": "stdout",
     "output_type": "stream",
     "text": [
      "Test Loss: 4.902 | Test PPL: 134.496\n"
     ]
    }
   ],
   "source": [
    "model.load_state_dict(torch.load('fr2en.pt'))\n",
    "test_loss = evaluate(model, test_iter, criterion)\n",
    "print(f\"Test Loss: {test_loss:.3f} | Test PPL: {math.exp(test_loss):7.3f}\")"
   ]
  },
  {
   "cell_type": "code",
   "execution_count": 58,
   "id": "square-batman",
   "metadata": {},
   "outputs": [],
   "source": [
    "# BLEI score:https://github.com/karlie38/torchstudy/blob/master/2.%20Sequence%20to%20Sequence%20Learning%20wiht%20Neural%20Networks/seq2seq-v03.ipynb\n",
    "\n",
    "from torchtext.data.metrics import bleu_score\n",
    "from tqdm import tqdm"
   ]
  },
  {
   "cell_type": "code",
   "execution_count": 65,
   "id": "understood-lyric",
   "metadata": {},
   "outputs": [],
   "source": [
    "#TODO: 내 원래 코드에서의 max_length가 몇이지? 그런거 업ㅂ따 \n",
    "def translate_sentence(model, sentence, src_field, trg_field, device, max_length=50):\n",
    "    if type(sentence) == str:\n",
    "        tokens = tokenize_en(sentence)\n",
    "    else:\n",
    "        tokens = [token.lower() for token in sentence]\n",
    "        \n",
    "    tokens.insert(0, src_field.init_token)\n",
    "    tokens.append(src_field.eos_token)\n",
    "    \n",
    "    text_to_indices = [src_field.vocab.stoi[token] for token in tokens]\n",
    "    sentence_tensor = torch.LongTensor(text_to_indices).unsqueeze(1).to(device)\n",
    "    \n",
    "    # build encoder hidden, cell state\n",
    "    with torch.no_grad():\n",
    "        output, hidden, cell = model.encoder(sentence_tensor)\n",
    "\n",
    "    outputs = [trg_field.vocab.stoi['<sos>']]\n",
    "    \n",
    "    for _ in range(max_length):\n",
    "        previous_word = torch.LongTensor([outputs[-1]]).to(device)\n",
    "        \n",
    "#         print('previous word:', previous_word.size())\n",
    "#         print('hidden:', hidden.size())\n",
    "#         print('cell:', cell.size())\n",
    "        with torch.no_grad():\n",
    "            output, hidden, cell = model.decoder(previous_word, hidden, cell)\n",
    "            best_guess = output.argmax(1).item()\n",
    "            \n",
    "        outputs.append(best_guess)\n",
    "        \n",
    "        # model predicts it's the end of the sentence\n",
    "        if output.argmax(1).item() == trg_field.vocab.stoi['<eos>']:\n",
    "            break\n",
    "            \n",
    "    translated_sentence = [trg_field.vocab.itos[idx] for idx in outputs]\n",
    "    return translated_sentence[1:-1]"
   ]
  },
  {
   "cell_type": "code",
   "execution_count": 66,
   "id": "developmental-freeze",
   "metadata": {},
   "outputs": [
    {
     "name": "stderr",
     "output_type": "stream",
     "text": [
      "100%|██████████| 1000/1000 [00:10<00:00, 92.96it/s]\n"
     ]
    },
    {
     "name": "stdout",
     "output_type": "stream",
     "text": [
      "finish!\n",
      "BLEU SCORE: 2.71%\n"
     ]
    }
   ],
   "source": [
    "label = []\n",
    "predict = []\n",
    "\n",
    "for i in tqdm(range(len(test_data.examples))):\n",
    "    sentence = vars(test_data.examples[i])['src']\n",
    "    label.append([vars(test_data.examples[i])['trg']])\n",
    "    predict.append(translate_sentence(model, sentence, SRC, TRG, device, max_length=50))\n",
    "    \n",
    "print('finish!')\n",
    "print(f\"BLEU SCORE: {bleu_score(predict, label) * 100:.2f}%\")"
   ]
  },
  {
   "cell_type": "markdown",
   "id": "announced-tribune",
   "metadata": {},
   "source": [
    "reference : https://docs.chainer.org/en/stable/examples/seq2seq.html"
   ]
  },
  {
   "cell_type": "code",
   "execution_count": null,
   "id": "daily-stability",
   "metadata": {},
   "outputs": [],
   "source": []
  }
 ],
 "metadata": {
  "kernelspec": {
   "display_name": "Python 3",
   "language": "python",
   "name": "python3"
  },
  "language_info": {
   "codemirror_mode": {
    "name": "ipython",
    "version": 3
   },
   "file_extension": ".py",
   "mimetype": "text/x-python",
   "name": "python",
   "nbconvert_exporter": "python",
   "pygments_lexer": "ipython3",
   "version": "3.9.1"
  }
 },
 "nbformat": 4,
 "nbformat_minor": 5
}
